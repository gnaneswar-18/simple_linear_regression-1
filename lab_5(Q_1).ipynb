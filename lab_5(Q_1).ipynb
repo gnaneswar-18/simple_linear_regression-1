{
  "nbformat": 4,
  "nbformat_minor": 0,
  "metadata": {
    "colab": {
      "provenance": [],
      "authorship_tag": "ABX9TyOI08lBhwtka6VVmtV6JcLe",
      "include_colab_link": true
    },
    "kernelspec": {
      "name": "python3",
      "display_name": "Python 3"
    },
    "language_info": {
      "name": "python"
    }
  },
  "cells": [
    {
      "cell_type": "markdown",
      "metadata": {
        "id": "view-in-github",
        "colab_type": "text"
      },
      "source": [
        "<a href=\"https://colab.research.google.com/github/gnaneswar-18/simple_linear_regression-1/blob/main/lab_5(Q_1).ipynb\" target=\"_parent\"><img src=\"https://colab.research.google.com/assets/colab-badge.svg\" alt=\"Open In Colab\"/></a>"
      ]
    },
    {
      "cell_type": "code",
      "execution_count": null,
      "metadata": {
        "id": "75pOlL298vpo"
      },
      "outputs": [],
      "source": [
        "import numpy as np\n",
        "import matplotlib.pyplot as plt\n",
        "\n",
        "x = np.array([0, 1, 2, 3, 4, 5, 6, 7, 8, 9])\n",
        "y = np.array([1, 3, 2, 5, 7, 8, 8, 9, 10, 12])\n",
        "\n",
        "N = len(x)\n",
        "x_mean = np.mean(x)\n",
        "y_mean = np.mean(y)"
      ]
    },
    {
      "cell_type": "code",
      "source": [
        "numerator = np.sum((x - x_mean) * (y - y_mean))\n",
        "denominator = np.sum((x - x_mean) ** 2)\n",
        "beta_1 = numerator / denominator\n",
        "beta_0 = y_mean - beta_1 * x_mean\n",
        "\n",
        "# print(x_mean ,y_mean, numerator, denominator,beta_0,beta_1)\n",
        "\n",
        "y_pred = beta_0 + beta_1 * x\n",
        "print(y_pred)\n",
        "\n",
        "SSE = np.sum((y - y_pred) ** 2)\n",
        "\n",
        "SST = np.sum((y - y_mean) ** 2)\n",
        "R2 = 1 - SSE / SST\n",
        "\n",
        "print(\"Analytic Solution:\")\n",
        "print(\"Beta 0 :\",beta_0)\n",
        "print(\"Beta 1 :\",beta_1)\n",
        "print(\"SSE:\", SSE)\n",
        "print(\"R^2:\" ,R2)"
      ],
      "metadata": {
        "colab": {
          "base_uri": "https://localhost:8080/"
        },
        "id": "95TsEtUt-y3v",
        "outputId": "9662009f-a1b3-4f70-8efc-31cf685ce29a"
      },
      "execution_count": null,
      "outputs": [
        {
          "output_type": "stream",
          "name": "stdout",
          "text": [
            "[ 1.23636364  2.40606061  3.57575758  4.74545455  5.91515152  7.08484848\n",
            "  8.25454545  9.42424242 10.59393939 11.76363636]\n",
            "Analytic Solution:\n",
            "Beta 0 : 1.2363636363636363\n",
            "Beta 1 : 1.1696969696969697\n",
            "SSE: 5.624242424242423\n",
            "R^2: 0.952538038613988\n"
          ]
        }
      ]
    },
    {
      "cell_type": "code",
      "source": [
        "beta_0_gd = 0\n",
        "beta_1_gd = 0\n",
        "alpha = 0.01\n",
        "iterations = 1000\n",
        "\n",
        "for itr in range(iterations):\n",
        "    y_pred_gd = beta_0_gd + beta_1_gd * x\n",
        "    error = y_pred_gd - y\n",
        "    beta_0_gd -= alpha * (1/N) * np.sum(error)\n",
        "    beta_1_gd -= alpha * (1/N) * np.sum(error * x)\n",
        "\n",
        "SSE_gd = np.sum((y - y_pred_gd) ** 2)\n",
        "R2_gd = 1 - SSE_gd / SST\n",
        "\n",
        "print(\"\\nGradient Descent Solution:\")\n",
        "print(\"Beta 0 :\",beta_0_gd)\n",
        "print(\"Beta 1 :\",beta_1_gd)\n",
        "print(\"SSE:\", SSE_gd)\n",
        "print(\"R^2:\" ,R2_gd)\n"
      ],
      "metadata": {
        "colab": {
          "base_uri": "https://localhost:8080/"
        },
        "id": "kK876HU6MiO-",
        "outputId": "5cf8bd65-f485-4fbf-b32b-829db5faa834"
      },
      "execution_count": null,
      "outputs": [
        {
          "output_type": "stream",
          "name": "stdout",
          "text": [
            "\n",
            "Gradient Descent Solution:\n",
            "Beta 0 : 1.175803611388339\n",
            "Beta 1 : 1.1793547634798334\n",
            "SSE: 5.634921753015258\n",
            "R^2: 0.9524479176960737\n"
          ]
        }
      ]
    },
    {
      "cell_type": "code",
      "source": [
        "plt.scatter(x, y, color='blue', label='Data points')\n",
        "plt.plot(x, y_pred, color='red', label='Analytic Solution')\n",
        "plt.plot(x, y_pred_gd, color='green', linestyle='--', label='Gradient Descent Solution')\n",
        "plt.xlabel('x')\n",
        "plt.ylabel('y')\n",
        "plt.legend()\n",
        "plt.show()\n"
      ],
      "metadata": {
        "colab": {
          "base_uri": "https://localhost:8080/",
          "height": 449
        },
        "id": "6GqPWHxRV75P",
        "outputId": "987701da-aca7-4361-a328-2627f6a6dcf1"
      },
      "execution_count": null,
      "outputs": [
        {
          "output_type": "display_data",
          "data": {
            "text/plain": [
              "<Figure size 640x480 with 1 Axes>"
            ],
            "image/png": "[encoded data removed]"
          },
          "metadata": {}
        }
      ]
    }
  ]
}